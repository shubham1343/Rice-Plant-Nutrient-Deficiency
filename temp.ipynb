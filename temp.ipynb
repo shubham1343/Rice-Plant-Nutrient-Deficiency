{
 "cells": [
  {
   "cell_type": "code",
   "execution_count": 1,
   "id": "9cb84cd5",
   "metadata": {},
   "outputs": [
    {
     "name": "stdout",
     "output_type": "stream",
     "text": [
      "['Nitrogen(N)', 'Phosphorus(P)', 'Potassium(K)']\n"
     ]
    }
   ],
   "source": [
    "import numpy as np\n",
    "import pandas as pd\n",
    "import os\n",
    "print(os.listdir(r\"C:\\Users\\shubh\\OneDrive\\Desktop\\rice_plant_lacks_nutrients\"))"
   ]
  },
  {
   "cell_type": "code",
   "execution_count": 2,
   "id": "64f7bde1",
   "metadata": {},
   "outputs": [
    {
     "name": "stdout",
     "output_type": "stream",
     "text": [
      "Requirement already satisfied: OpenCV-python in c:\\users\\shubh\\anaconda3\\lib\\site-packages (4.7.0.72)\n",
      "Requirement already satisfied: numpy>=1.17.0 in c:\\users\\shubh\\anaconda3\\lib\\site-packages (from OpenCV-python) (1.21.5)\n",
      "Could not fetch URL https://pypi.org/simple/pip/: There was a problem confirming the ssl certificate: HTTPSConnectionPool(host='pypi.org', port=443): Max retries exceeded with url: /simple/pip/ (Caused by SSLError(SSLCertVerificationError(1, '[SSL: CERTIFICATE_VERIFY_FAILED] certificate verify failed: self signed certificate in certificate chain (_ssl.c:1129)'))) - skipping\n",
      "Note: you may need to restart the kernel to use updated packages.\n"
     ]
    }
   ],
   "source": [
    "pip install OpenCV-python"
   ]
  },
  {
   "cell_type": "code",
   "execution_count": 3,
   "id": "31787810",
   "metadata": {},
   "outputs": [],
   "source": [
    "import numpy as np\n",
    "import pandas as pd\n",
    "import seaborn as sns\n",
    "import matplotlib.pyplot as plt\n",
    "import cv2"
   ]
  },
  {
   "cell_type": "code",
   "execution_count": 4,
   "id": "af59dbb3",
   "metadata": {},
   "outputs": [
    {
     "name": "stdout",
     "output_type": "stream",
     "text": [
      "Requirement already satisfied: python-resize-image in c:\\users\\shubh\\anaconda3\\lib\\site-packages (1.1.20)\n",
      "Requirement already satisfied: requests>=2.19.1 in c:\\users\\shubh\\anaconda3\\lib\\site-packages (from python-resize-image) (2.27.1)\n",
      "Requirement already satisfied: Pillow>=5.1.0 in c:\\users\\shubh\\anaconda3\\lib\\site-packages (from python-resize-image) (9.0.1)\n",
      "Requirement already satisfied: certifi>=2017.4.17 in c:\\users\\shubh\\anaconda3\\lib\\site-packages (from requests>=2.19.1->python-resize-image) (2021.10.8)\n",
      "Requirement already satisfied: charset-normalizer~=2.0.0 in c:\\users\\shubh\\anaconda3\\lib\\site-packages (from requests>=2.19.1->python-resize-image) (2.0.4)\n",
      "Requirement already satisfied: idna<4,>=2.5 in c:\\users\\shubh\\anaconda3\\lib\\site-packages (from requests>=2.19.1->python-resize-image) (3.3)\n",
      "Requirement already satisfied: urllib3<1.27,>=1.21.1 in c:\\users\\shubh\\anaconda3\\lib\\site-packages (from requests>=2.19.1->python-resize-image) (1.26.9)\n",
      "Could not fetch URL https://pypi.org/simple/pip/: There was a problem confirming the ssl certificate: HTTPSConnectionPool(host='pypi.org', port=443): Max retries exceeded with url: /simple/pip/ (Caused by SSLError(SSLCertVerificationError(1, '[SSL: CERTIFICATE_VERIFY_FAILED] certificate verify failed: self signed certificate in certificate chain (_ssl.c:1129)'))) - skipping\n",
      "Note: you may need to restart the kernel to use updated packages.\n"
     ]
    }
   ],
   "source": [
    "pip install python-resize-image"
   ]
  },
  {
   "cell_type": "code",
   "execution_count": 5,
   "id": "2199fd96",
   "metadata": {},
   "outputs": [],
   "source": [
    "from resizeimage import resizeimage\n",
    "from PIL import Image\n",
    "images=[]\n",
    "labels=[]\n",
    "def load_images_from_folder_a(folder,id):\n",
    "    \n",
    "    for filename in os.listdir(folder):\n",
    "        if filename!=\"Thumbs.db\":\n",
    "            img1 = Image.open(os.path.join(folder,filename))\n",
    "            new1 = resizeimage.resize_contain(img1, [128, 128, 3])\n",
    "            new1 = np.array(new1, dtype='uint8')\n",
    "            images.append(new1)\n",
    "            if id==1:\n",
    "                labels.append(0)\n",
    "            elif id==2:\n",
    "                labels.append(1)\n",
    "            else:\n",
    "                labels.append(2)"
   ]
  },
  {
   "cell_type": "code",
   "execution_count": 6,
   "id": "52d0079c",
   "metadata": {},
   "outputs": [],
   "source": [
    "load_images_from_folder_a(r\"C:\\Users\\shubh\\OneDrive\\Desktop\\rice_plant_lacks_nutrients\\Nitrogen(N)\",1)\n",
    "load_images_from_folder_a(r\"C:\\Users\\shubh\\OneDrive\\Desktop\\rice_plant_lacks_nutrients\\Phosphorus(P)\",2)\n",
    "load_images_from_folder_a(r\"C:\\Users\\shubh\\OneDrive\\Desktop\\rice_plant_lacks_nutrients\\Potassium(K)\",3)\n",
    "\n",
    "\n",
    "train = np.array(images)\n",
    "label=labels\n",
    "train = train.astype('float32') / 255"
   ]
  },
  {
   "cell_type": "code",
   "execution_count": 7,
   "id": "280dec48",
   "metadata": {},
   "outputs": [
    {
     "data": {
      "image/png": "[encoded data removed]",
      "text/plain": [
       "<Figure size 640x480 with 1 Axes>"
      ]
     },
     "metadata": {},
     "output_type": "display_data"
    }
   ],
   "source": [
    "if label[1]==0:\n",
    "    plt.title(\"N\")\n",
    "    plt.imshow(train[1])\n",
    "elif label[1]==1:\n",
    "    plt.title(\"P\")\n",
    "    plt.imshow(train[1])\n",
    "else:\n",
    "    plt.title(\"K\")\n",
    "    plt.imshow(train[1])\n",
    "    "
   ]
  },
  {
   "cell_type": "code",
   "execution_count": 8,
   "id": "3eaf4aea",
   "metadata": {},
   "outputs": [],
   "source": [
    "from sklearn.model_selection import train_test_split\n",
    "X_train,X_test,Y_train,Y_test=train_test_split(train,label,test_size=0.1,random_state=1)"
   ]
  },
  {
   "cell_type": "code",
   "execution_count": 9,
   "id": "737a7a35",
   "metadata": {},
   "outputs": [
    {
     "name": "stdout",
     "output_type": "stream",
     "text": [
      "1040 116\n",
      "1040 116\n",
      "(128, 128, 4)\n"
     ]
    }
   ],
   "source": [
    "import keras\n",
    "from keras import Sequential, utils\n",
    "from tensorflow.keras.utils import to_categorical\n",
    "print(len(X_train),len(X_test))\n",
    "print(len(Y_train),len(Y_test))\n",
    "print(X_train[10].shape)\n",
    "num_classes=3\n",
    "#Doing One hot encoding as classifier has multiple classes\n",
    "Y_train_cat=to_categorical(Y_train,num_classes)\n",
    "Y_test_cat=to_categorical(Y_test,num_classes)"
   ]
  },
  {
   "cell_type": "code",
   "execution_count": 10,
   "id": "12bebd3e",
   "metadata": {},
   "outputs": [
    {
     "name": "stdout",
     "output_type": "stream",
     "text": [
      "Model: \"sequential\"\n",
      "_________________________________________________________________\n",
      " Layer (type)                Output Shape              Param #   \n",
      "=================================================================\n",
      " conv2d (Conv2D)             (None, 128, 128, 32)      1184      \n",
      "                                                                 \n",
      " max_pooling2d (MaxPooling2D  (None, 64, 64, 32)       0         \n",
      " )                                                               \n",
      "                                                                 \n",
      " conv2d_1 (Conv2D)           (None, 64, 64, 32)        9248      \n",
      "                                                                 \n",
      " max_pooling2d_1 (MaxPooling  (None, 32, 32, 32)       0         \n",
      " 2D)                                                             \n",
      "                                                                 \n",
      " conv2d_2 (Conv2D)           (None, 32, 32, 32)        9248      \n",
      "                                                                 \n",
      " max_pooling2d_2 (MaxPooling  (None, 16, 16, 32)       0         \n",
      " 2D)                                                             \n",
      "                                                                 \n",
      " conv2d_3 (Conv2D)           (None, 16, 16, 32)        9248      \n",
      "                                                                 \n",
      " max_pooling2d_3 (MaxPooling  (None, 8, 8, 32)         0         \n",
      " 2D)                                                             \n",
      "                                                                 \n",
      " conv2d_4 (Conv2D)           (None, 8, 8, 32)          9248      \n",
      "                                                                 \n",
      " max_pooling2d_4 (MaxPooling  (None, 4, 4, 32)         0         \n",
      " 2D)                                                             \n",
      "                                                                 \n",
      " dropout (Dropout)           (None, 4, 4, 32)          0         \n",
      "                                                                 \n",
      " flatten (Flatten)           (None, 512)               0         \n",
      "                                                                 \n",
      " dense (Dense)               (None, 256)               131328    \n",
      "                                                                 \n",
      " dense_1 (Dense)             (None, 128)               32896     \n",
      "                                                                 \n",
      " dense_2 (Dense)             (None, 32)                4128      \n",
      "                                                                 \n",
      " dense_3 (Dense)             (None, 3)                 99        \n",
      "                                                                 \n",
      "=================================================================\n",
      "Total params: 206,627\n",
      "Trainable params: 206,627\n",
      "Non-trainable params: 0\n",
      "_________________________________________________________________\n"
     ]
    }
   ],
   "source": [
    "import keras\n",
    "from keras.models import Sequential\n",
    "from keras.layers import Conv2D, Dense, MaxPooling2D, Flatten, Dropout\n",
    "from keras import regularizers\n",
    "from keras.regularizers import l1_l2, l2\n",
    "from keras import activations\n",
    "from keras import initializers \n",
    "from keras.layers import LeakyReLU, BatchNormalization\n",
    "model = Sequential()\n",
    "model.add(Conv2D(32, (3, 3), activation='relu', padding='same', input_shape=(128, 128, 4), kernel_regularizer=regularizers.l2(0.01)))\n",
    "#model.add(Conv2D(32, (3, 3), activation='relu', padding='same',kernel_regularizer=regularizers.l2(0.01)))\n",
    "model.add(MaxPooling2D((2, 2), padding='same'))\n",
    "model.add(Conv2D(32, (3, 3), activation='relu', padding='same',kernel_regularizer=regularizers.l2(0.01)))\n",
    "#model.add(Conv2D(32, (3, 3), activation='relu', padding='same',kernel_regularizer=regularizers.l2(0.01)))\n",
    "model.add(MaxPooling2D((2, 2), padding='same'))\n",
    "model.add(Conv2D(32, (3, 3), activation='relu', padding='same',kernel_regularizer=regularizers.l2(0.01))) # Newly added\n",
    "#model.add(Conv2D(32, (3, 3), activation='relu', padding='same',kernel_regularizer=regularizers.l2(0.01)))\n",
    "model.add(MaxPooling2D((2, 2), padding='same')) # Newly added\n",
    "model.add(Conv2D(32, (3, 3), activation='relu', padding='same',kernel_regularizer=regularizers.l2(0.01))) # Newly added\n",
    "#model.add(Conv2D(32, (3, 3), activation='relu', padding='same',kernel_regularizer=regularizers.l2(0.01)))\n",
    "model.add(MaxPooling2D((2, 2), padding='same')) # Newly added\n",
    "model.add(Conv2D(32, (3, 3), activation='relu', padding='same',kernel_regularizer=regularizers.l2(0.01))) # Newly added\n",
    "#model.add(Conv2D(32, (3, 3), activation='relu', padding='same',kernel_regularizer=regularizers.l2(0.01)))\n",
    "model.add(MaxPooling2D((2, 2), padding='same')) # Newly added\n",
    "\n",
    "model.add(Dropout(0.25)) # Dropout layer added\n",
    "model.add(Flatten())\n",
    "model.add(Dense(256, activation='relu'))\n",
    "model.add(Dense(128, activation='relu'))\n",
    "#model.add(Dropout(0.25)) #Dropout Layer added\n",
    "model.add(Dense(32, activation='relu'))\n",
    "model.add(Dense(3, activation='softmax'))\n",
    "model.summary()\n",
    "opt = keras.optimizers.Adam(learning_rate=0.0001, beta_1=0.9, beta_2=0.999, amsgrad=False)\n",
    "#opt = keras.optimizers.SGD(learning_rate=0.001, momentum=0.1, nesterov=False) # BAD \n",
    "#opt = keras.optimizers.Adamax(learning_rate=0.001, beta_1=0.9, beta_2=0.999, epsilon=1e-07)\n",
    "\n",
    "# Let's train the model using RMSprop\n",
    "model.compile(loss='categorical_crossentropy', #binary_crossentropy\n",
    "              optimizer=opt,\n",
    "              metrics=['accuracy'])"
   ]
  },
  {
   "cell_type": "code",
   "execution_count": null,
   "id": "9d157e3c",
   "metadata": {},
   "outputs": [
    {
     "name": "stdout",
     "output_type": "stream",
     "text": [
      "Epoch 1/100\n",
      "59/59 [==============================] - 9s 140ms/step - loss: 2.3563 - accuracy: 0.4081 - val_loss: 2.2315 - val_accuracy: 0.5481\n",
      "Epoch 2/100\n",
      "59/59 [==============================] - 8s 144ms/step - loss: 2.1241 - accuracy: 0.5406 - val_loss: 1.9880 - val_accuracy: 0.5673\n",
      "Epoch 3/100\n",
      "59/59 [==============================] - 9s 144ms/step - loss: 1.8940 - accuracy: 0.5951 - val_loss: 1.8580 - val_accuracy: 0.6250\n",
      "Epoch 4/100\n",
      "59/59 [==============================] - 9s 157ms/step - loss: 1.7569 - accuracy: 0.6357 - val_loss: 1.6612 - val_accuracy: 0.6827\n",
      "Epoch 5/100\n",
      "59/59 [==============================] - 8s 139ms/step - loss: 1.6348 - accuracy: 0.6613 - val_loss: 1.5766 - val_accuracy: 0.6635\n",
      "Epoch 6/100\n",
      "40/59 [===================>..........] - ETA: 2s - loss: 1.5859 - accuracy: 0.6609"
     ]
    }
   ],
   "source": [
    "hist=model.fit(X_train,Y_train_cat, epochs=100, batch_size=16, verbose=1  ,validation_split=0.1)"
   ]
  },
  {
   "cell_type": "code",
   "execution_count": null,
   "id": "6fd2bcaa",
   "metadata": {},
   "outputs": [],
   "source": [
    "plt.plot(hist.history['loss'])\n",
    "plt.plot(hist.history['val_loss'])\n",
    "plt.title('Model loss')\n",
    "plt.ylabel('Loss')\n",
    "plt.xlabel('Epoch')\n",
    "plt.legend(['Train', 'Val'], loc='upper right')\n",
    "plt.show()"
   ]
  },
  {
   "cell_type": "code",
   "execution_count": null,
   "id": "ba04083e",
   "metadata": {},
   "outputs": [],
   "source": [
    "plt.plot(hist.history['accuracy'])\n",
    "plt.plot(hist.history['val_accuracy'])\n",
    "plt.title('Model accuracy')\n",
    "plt.ylabel('Accuracy')\n",
    "plt.xlabel('Epoch')\n",
    "plt.legend(['Train', 'Val'], loc='lower right')\n",
    "plt.show()"
   ]
  },
  {
   "cell_type": "code",
   "execution_count": null,
   "id": "5696b0c7",
   "metadata": {},
   "outputs": [],
   "source": [
    "accuracy = model.evaluate(X_test, Y_test_cat, verbose=1)\n",
    "print('\\n', 'Test_Accuracy:-', accuracy[1])\n",
    "Y_predict=model.predict(X_test)\n",
    "#print(Y_test)\n",
    "#print(Y_predict)\n",
    "from numpy import argmax\n",
    "Y_predict_1=argmax(Y_predict, axis=1, out=None)\n",
    "#print(Y_predict_1)\n",
    "#from pandas_ml import ConfusionMatrix \n",
    "#cm = ConfusionMatrix(Y_test, Y_predict_1) \n",
    "#cm.plot(backend='seaborn')\n",
    "#cm.print_stats()\n",
    "#print(\"Binary confusion matrix:\\n%s\" % cm)"
   ]
  },
  {
   "cell_type": "code",
   "execution_count": null,
   "id": "ea840482",
   "metadata": {},
   "outputs": [],
   "source": [
    "Y_predict=model.predict(X_test)\n",
    "from numpy import argmax\n",
    "Y_predict_1=argmax(Y_predict, axis=1, out=None)"
   ]
  },
  {
   "cell_type": "code",
   "execution_count": null,
   "id": "c3e5faa8",
   "metadata": {},
   "outputs": [],
   "source": [
    "from sklearn.metrics import confusion_matrix, ConfusionMatrixDisplay\n",
    "cm=confusion_matrix(Y_test,Y_predict_1)\n",
    "disp = ConfusionMatrixDisplay(confusion_matrix=cm,display_labels=['N','P','K'])\n",
    "disp.plot()"
   ]
  },
  {
   "cell_type": "code",
   "execution_count": null,
   "id": "8e7b2244",
   "metadata": {},
   "outputs": [],
   "source": [
    " print('Formula based Accuracy:',sum(np.diag(cm))/sum(cm.sum(axis=1)))\n"
   ]
  },
  {
   "cell_type": "code",
   "execution_count": null,
   "id": "7575bf94",
   "metadata": {},
   "outputs": [],
   "source": [
    "FP = cm.sum(axis=0) - np.diag(cm) \n",
    "FN = cm.sum(axis=1) - np.diag(cm)\n",
    "TP = np.diag(cm)\n",
    "TN = cm.sum() - (FP + FN + TP)\n",
    "FP = FP.astype(float)\n",
    "FN = FN.astype(float)\n",
    "TP = TP.astype(float)\n",
    "TN = TN.astype(float)\n",
    "# Sensitivity, hit rate, recall, or true positive rate\n",
    "TPR = TP/(TP+FN)\n",
    "# Specificity or true negative rate\n",
    "TNR = TN/(TN+FP) \n",
    "# Precision or positive predictive value\n",
    "PPV = TP/(TP+FP)\n",
    "# Negative predictive value\n",
    "NPV = TN/(TN+FN)\n",
    "# Fall out or false positive rate\n",
    "FPR = FP/(FP+TN)\n",
    "# False negative rate\n",
    "FNR = FN/(TP+FN)\n",
    "# False discovery rate\n",
    "FDR = FP/(TP+FP)\n",
    "# F1 Score\n",
    "F1=2*((PPV*TPR)/(PPV+TPR))\n",
    "# Overall accuracy for each class\n",
    "ACC = (TP+TN)/(TP+FP+FN+TN)"
   ]
  },
  {
   "cell_type": "code",
   "execution_count": null,
   "id": "98741876",
   "metadata": {},
   "outputs": [],
   "source": [
    "from sklearn import metrics\n",
    "print('TP:', TP)\n",
    "print('TN:', TN)\n",
    "print('FP:', FP)\n",
    "print('FN:', FN)\n",
    "#Accuracy\n",
    "print(\"Accuracy : \")\n",
    "print(round(metrics.accuracy_score(Y_test,Y_predict_1)*100,2))\n",
    "\n",
    "#TPR - sensitivity\n",
    "print(\"\\nSensitivity : \")\n",
    "print(\" Classwise Sensitivity:\", np.round(TPR*100,2))\n",
    "\n",
    "print(\" Overall Sensitivity:\", round((sum(TPR)/len(TPR))*100,2))\n",
    "\n",
    "#TNR - specificity\n",
    "print(\"\\nSpecificity : \")\n",
    "print(\" Classwise Specificity :\", np.round(TNR*100,2))\n",
    "print(\" Overall Specificity :\", round((sum(TNR)/len(TNR))*100,2))\n",
    "\n",
    "#Precision\n",
    "print(\"\\nPrecision : \")\n",
    "print(\" Classwise Precision :\", np.round(PPV*100,2))\n",
    "print(\" Overall Specificity :\", round((sum(PPV)/len(PPV))*100,2))\n",
    "\n",
    "#F1\n",
    "print(\"\\nF1 : \")\n",
    "print(\" Classwise F1 Score :\", np.round(F1*100,2))\n",
    "print(\" Overall F1 Score :\", round((sum(F1)/len(F1))*100,2))\n",
    "\n"
   ]
  },
  {
   "cell_type": "code",
   "execution_count": null,
   "id": "0bbfa213",
   "metadata": {},
   "outputs": [],
   "source": [
    "model_json = model.to_json()\n",
    "with open(\"CNN.json\", \"w\") as json_file:\n",
    "    json_file.write(model_json)\n",
    "model.save_weights(\"CNN.h5\")"
   ]
  },
  {
   "cell_type": "code",
   "execution_count": null,
   "id": "bad93feb",
   "metadata": {},
   "outputs": [],
   "source": []
  }
 ],
 "metadata": {
  "kernelspec": {
   "display_name": "Python 3 (ipykernel)",
   "language": "python",
   "name": "python3"
  },
  "language_info": {
   "codemirror_mode": {
    "name": "ipython",
    "version": 3
   },
   "file_extension": ".py",
   "mimetype": "text/x-python",
   "name": "python",
   "nbconvert_exporter": "python",
   "pygments_lexer": "ipython3",
   "version": "3.9.12"
  }
 },
 "nbformat": 4,
 "nbformat_minor": 5
}
